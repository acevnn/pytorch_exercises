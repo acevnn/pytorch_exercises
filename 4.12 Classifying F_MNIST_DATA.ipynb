{
 "cells": [
  {
   "cell_type": "code",
   "execution_count": 4,
   "metadata": {},
   "outputs": [],
   "source": [
    "import torch \n",
    "from torchvision import datasets, transforms\n",
    "import helper\n",
    "\n",
    "#Define a transform to normalize the data\n",
    "transform = transforms.Compose([transforms.ToTensor(),\n",
    "                               transforms.Normalize((0.5,0.5,0.5), (0.5,0.5,0.5))])\n",
    "\n",
    "#Download the training data \n",
    "trainset = datasets.FashionMNIST('~/pytorch/F_MNIST_data/', download = True, train = True, transform=transform)\n",
    "trainLoader = torch.utils.data.DataLoader(trainset, batch_size=64, shuffle= True )\n",
    "\n",
    "testset = datasets.FashionMNIST('~/pytorch/F_MNIST_data/', download = True, train = False, transform=transform)\n",
    "testLoader = torch.utils.data.DataLoader(testset, batch_size=64, shuffle= True )"
   ]
  },
  {
   "cell_type": "code",
   "execution_count": 5,
   "metadata": {},
   "outputs": [
    {
     "data": {
      "image/png": "[encoded data removed]",
      "text/plain": [
       "<Figure size 432x288 with 1 Axes>"
      ]
     },
     "metadata": {
      "needs_background": "light"
     },
     "output_type": "display_data"
    }
   ],
   "source": [
    "image, label = next(iter(trainLoader))\n",
    "helper.imshow(image[0,:]);\n"
   ]
  },
  {
   "cell_type": "code",
   "execution_count": 15,
   "metadata": {},
   "outputs": [
    {
     "data": {
      "text/plain": [
       "Classifier(\n",
       "  (fc1): Linear(in_features=784, out_features=256, bias=True)\n",
       "  (fc2): Linear(in_features=256, out_features=128, bias=True)\n",
       "  (fc3): Linear(in_features=128, out_features=64, bias=True)\n",
       "  (fc4): Linear(in_features=64, out_features=10, bias=True)\n",
       ")"
      ]
     },
     "execution_count": 15,
     "metadata": {},
     "output_type": "execute_result"
    }
   ],
   "source": [
    "from torch import nn, optim\n",
    "import torch.nn.functional as F\n",
    "\n",
    "# TODO: Define your network architecture here\n",
    "class Classifier(nn.Module):\n",
    "    def __init__(self):\n",
    "        super().__init__()\n",
    "        \n",
    "        #Defining the layers 128, 64, 10\n",
    "        self.fc1 = nn.Linear(784,256)\n",
    "        self.fc2 = nn.Linear(256,128)\n",
    "        self.fc3 = nn.Linear(128,64)\n",
    "        #output layer\n",
    "        self.fc4 = nn.Linear(64, 10)\n",
    "        \n",
    "    def forward(self, x):\n",
    "        \n",
    "        #make sure input tensor is flattened\n",
    "        x = x.view(x.shape[0], -1) #forgot to add this line\n",
    "        #hidden layer with relu\n",
    "        x = self.fc1(x)\n",
    "        x = F.relu(x)\n",
    "        x = self.fc2(x)\n",
    "        x = F.relu(x)\n",
    "        x = self.fc3(x)\n",
    "        x = F.relu(x)\n",
    "        x = self.fc4(x)\n",
    "\n",
    "        #output layer with softmax activation\n",
    "        x = F.log_softmax(x, dim = 1)\n",
    "        \n",
    "        return x\n",
    "\n",
    "model"
   ]
  },
  {
   "cell_type": "code",
   "execution_count": 16,
   "metadata": {},
   "outputs": [],
   "source": [
    "# create the network, define the criterion and optimizer\n",
    "model = Classifier()\n",
    "# Define the loss\n",
    "criterion = nn.NLLLoss()\n",
    "\n",
    "#optimiziers require the parameters to optimize and a learning rate\n",
    "optimizer = optim.Adam(model.parameters(), lr = 0.003)\n"
   ]
  },
  {
   "cell_type": "code",
   "execution_count": 17,
   "metadata": {},
   "outputs": [
    {
     "name": "stdout",
     "output_type": "stream",
     "text": [
      "Training loss: 486.33229634165764\n",
      "Training loss: 370.11071845144033\n",
      "Training loss: 335.6826172173023\n",
      "Training loss: 314.0726308003068\n",
      "Training loss: 297.4025517180562\n"
     ]
    }
   ],
   "source": [
    "# traing the network\n",
    "epochs = 5\n",
    "for e in range(epochs):\n",
    "    running_loss = 0\n",
    "    for image, label in trainLoader:\n",
    "        log_ps = model(image)\n",
    "        loss = criterion(log_ps, label)\n",
    "    \n",
    "        #Training pass\n",
    "        optimizer.zero_grad()\n",
    "        loss.backward()\n",
    "        optimizer.step()\n",
    "        \n",
    "        running_loss += loss.item()\n",
    "    else:\n",
    "        print(f\"Training loss: {running_loss}\")"
   ]
  },
  {
   "cell_type": "code",
   "execution_count": 18,
   "metadata": {},
   "outputs": [
    {
     "data": {
      "image/png": "[encoded data removed]",
      "text/plain": [
       "<Figure size 432x648 with 2 Axes>"
      ]
     },
     "metadata": {
      "image/png": {
       "height": 206,
       "width": 423
      },
      "needs_background": "light"
     },
     "output_type": "display_data"
    }
   ],
   "source": [
    "%matplotlib inline\n",
    "%config InlineBackend.figure_format = 'retina'\n",
    "\n",
    "import helper\n",
    "\n",
    "#test out your network!\n",
    "dataiter = iter(testLoader)\n",
    "images, labels = dataiter.next()\n",
    "img = images[1]\n",
    "\n",
    "#calculate the class probabilities(softmax) for img\n",
    "ps = torch.exp(model(img))\n",
    "\n",
    "#plot the img and probabilities\n",
    "helper.view_classify(img, ps, version =\"Fashion\")"
   ]
  },
  {
   "cell_type": "code",
   "execution_count": null,
   "metadata": {},
   "outputs": [],
   "source": []
  }
 ],
 "metadata": {
  "kernelspec": {
   "display_name": "Python 3",
   "language": "python",
   "name": "python3"
  },
  "language_info": {
   "codemirror_mode": {
    "name": "ipython",
    "version": 3
   },
   "file_extension": ".py",
   "mimetype": "text/x-python",
   "name": "python",
   "nbconvert_exporter": "python",
   "pygments_lexer": "ipython3",
   "version": "3.7.1"
  }
 },
 "nbformat": 4,
 "nbformat_minor": 2
}
