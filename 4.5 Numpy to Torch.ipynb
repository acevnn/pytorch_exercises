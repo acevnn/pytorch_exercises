{
 "cells": [
  {
   "cell_type": "code",
   "execution_count": 4,
   "metadata": {},
   "outputs": [],
   "source": [
    "import numpy as np\n",
    "import torch"
   ]
  },
  {
   "cell_type": "code",
   "execution_count": 2,
   "metadata": {},
   "outputs": [
    {
     "data": {
      "text/plain": [
       "array([[0.74789385, 0.94906701, 0.06803213],\n",
       "       [0.83796623, 0.68018628, 0.37699806],\n",
       "       [0.96041724, 0.89426243, 0.05604998],\n",
       "       [0.47303464, 0.6466603 , 0.31854804]])"
      ]
     },
     "execution_count": 2,
     "metadata": {},
     "output_type": "execute_result"
    }
   ],
   "source": [
    "a = np.random.rand(4,3)\n",
    "a"
   ]
  },
  {
   "cell_type": "code",
   "execution_count": 5,
   "metadata": {},
   "outputs": [
    {
     "data": {
      "text/plain": [
       "tensor([[0.7479, 0.9491, 0.0680],\n",
       "        [0.8380, 0.6802, 0.3770],\n",
       "        [0.9604, 0.8943, 0.0560],\n",
       "        [0.4730, 0.6467, 0.3185]], dtype=torch.float64)"
      ]
     },
     "execution_count": 5,
     "metadata": {},
     "output_type": "execute_result"
    }
   ],
   "source": [
    "b = torch.from_numpy(a)\n",
    "b"
   ]
  },
  {
   "cell_type": "code",
   "execution_count": 6,
   "metadata": {},
   "outputs": [
    {
     "data": {
      "text/plain": [
       "array([[0.74789385, 0.94906701, 0.06803213],\n",
       "       [0.83796623, 0.68018628, 0.37699806],\n",
       "       [0.96041724, 0.89426243, 0.05604998],\n",
       "       [0.47303464, 0.6466603 , 0.31854804]])"
      ]
     },
     "execution_count": 6,
     "metadata": {},
     "output_type": "execute_result"
    }
   ],
   "source": [
    "b.numpy()\n"
   ]
  },
  {
   "cell_type": "code",
   "execution_count": 7,
   "metadata": {},
   "outputs": [
    {
     "data": {
      "text/plain": [
       "tensor([[1.4958, 1.8981, 0.1361],\n",
       "        [1.6759, 1.3604, 0.7540],\n",
       "        [1.9208, 1.7885, 0.1121],\n",
       "        [0.9461, 1.2933, 0.6371]], dtype=torch.float64)"
      ]
     },
     "execution_count": 7,
     "metadata": {},
     "output_type": "execute_result"
    }
   ],
   "source": [
    "#multiply pytorch tensor by 2 , in place\n",
    "b.mul_(2)\n"
   ]
  },
  {
   "cell_type": "code",
   "execution_count": 8,
   "metadata": {},
   "outputs": [
    {
     "data": {
      "text/plain": [
       "array([[1.49578771, 1.89813401, 0.13606425],\n",
       "       [1.67593246, 1.36037255, 0.75399612],\n",
       "       [1.92083449, 1.78852486, 0.11209997],\n",
       "       [0.94606929, 1.29332059, 0.63709609]])"
      ]
     },
     "execution_count": 8,
     "metadata": {},
     "output_type": "execute_result"
    }
   ],
   "source": [
    "a"
   ]
  },
  {
   "cell_type": "code",
   "execution_count": null,
   "metadata": {},
   "outputs": [],
   "source": []
  }
 ],
 "metadata": {
  "kernelspec": {
   "display_name": "Python 3",
   "language": "python",
   "name": "python3"
  },
  "language_info": {
   "codemirror_mode": {
    "name": "ipython",
    "version": 3
   },
   "file_extension": ".py",
   "mimetype": "text/x-python",
   "name": "python",
   "nbconvert_exporter": "python",
   "pygments_lexer": "ipython3",
   "version": "3.7.1"
  }
 },
 "nbformat": 4,
 "nbformat_minor": 2
}
