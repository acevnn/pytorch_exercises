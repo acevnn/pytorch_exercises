{
 "cells": [
  {
   "cell_type": "code",
   "execution_count": 3,
   "metadata": {},
   "outputs": [],
   "source": [
    "#import necessary packages\n",
    "\n",
    "%matplotlib inline\n",
    "%config InlineBackend.figure_format ='retina'\n",
    "\n",
    "import numpy as np\n",
    "import torch\n",
    "\n",
    "import helper\n",
    "\n",
    "import matplotlib.pyplot as plt"
   ]
  },
  {
   "cell_type": "code",
   "execution_count": 4,
   "metadata": {},
   "outputs": [],
   "source": [
    "### run this cell\n",
    "\n",
    "from torchvision import datasets, transforms\n",
    "\n",
    "# Define a transform to normalize the data\n",
    "transform = transforms.Compose([transforms.ToTensor(), \n",
    "                               transforms.Normalize((0.5,), (0.5,)),\n",
    "                               ])\n",
    "\n",
    "# Download and load the training data\n",
    "trainset = datasets.MNIST('~/.pytorch/MNIST_data', download = True, train = True, transform = transform)\n",
    "trainloader = torch.utils.data.DataLoader(trainset, batch_size = 64, shuffle = True)"
   ]
  },
  {
   "cell_type": "code",
   "execution_count": 5,
   "metadata": {},
   "outputs": [
    {
     "name": "stdout",
     "output_type": "stream",
     "text": [
      "<class 'torch.Tensor'>\n",
      "torch.Size([64, 1, 28, 28])\n",
      "torch.Size([64])\n"
     ]
    }
   ],
   "source": [
    "dataiter = iter(trainloader)\n",
    "images, labels = dataiter.next()\n",
    "print(type(images))\n",
    "print(images.shape)\n",
    "print(labels.shape)"
   ]
  },
  {
   "cell_type": "code",
   "execution_count": 6,
   "metadata": {},
   "outputs": [
    {
     "data": {
      "image/png": "[encoded data removed]",
      "text/plain": [
       "<Figure size 432x288 with 1 Axes>"
      ]
     },
     "metadata": {
      "image/png": {
       "height": 250,
       "width": 253
      },
      "needs_background": "light"
     },
     "output_type": "display_data"
    }
   ],
   "source": [
    "plt.imshow(images[1].numpy().squeeze(), cmap='Greys_r');"
   ]
  },
  {
   "cell_type": "code",
   "execution_count": 7,
   "metadata": {},
   "outputs": [
    {
     "name": "stdout",
     "output_type": "stream",
     "text": [
      "tensor([[2.7052e-07, 1.0578e-01, 9.9638e-01, 6.1785e-08, 9.8445e-01, 9.9999e-01,\n",
      "         2.1259e-02, 9.7440e-01, 8.3282e-06, 3.2776e-04],\n",
      "        [4.8219e-06, 8.9509e-01, 9.7386e-01, 1.8341e-05, 1.0000e+00, 8.8992e-01,\n",
      "         1.9481e-07, 9.9666e-01, 1.5797e-06, 2.9720e-04],\n",
      "        [1.1500e-07, 5.4255e-03, 9.9429e-07, 9.1184e-07, 9.9995e-01, 9.9623e-01,\n",
      "         6.6004e-01, 2.2883e-02, 1.2087e-06, 3.2880e-03],\n",
      "        [7.8341e-09, 1.5535e-04, 5.7504e-05, 2.5550e-07, 9.7523e-01, 9.9999e-01,\n",
      "         9.9798e-01, 8.3746e-03, 4.7992e-10, 2.1706e-01],\n",
      "        [3.0073e-07, 1.9283e-02, 9.7715e-01, 6.2459e-05, 9.9960e-01, 9.4210e-01,\n",
      "         2.5298e-05, 9.9859e-01, 9.2139e-09, 3.7475e-01],\n",
      "        [2.2963e-07, 1.7942e-04, 5.7611e-01, 5.0258e-07, 5.1895e-01, 9.9882e-01,\n",
      "         1.3866e-03, 2.5416e-01, 1.0065e-04, 3.3413e-02],\n",
      "        [5.1768e-01, 9.8553e-07, 8.1201e-03, 1.9027e-01, 1.0000e+00, 9.9753e-01,\n",
      "         9.4065e-03, 4.6700e-02, 7.9901e-06, 1.6864e-03],\n",
      "        [1.4276e-09, 8.6269e-01, 9.9899e-01, 5.9172e-01, 9.9831e-01, 9.9761e-01,\n",
      "         2.2875e-03, 1.2701e-01, 6.7058e-08, 2.3423e-01],\n",
      "        [1.3448e-09, 3.2272e-05, 2.2836e-01, 3.6866e-06, 9.9999e-01, 2.0273e-01,\n",
      "         1.5033e-03, 9.5566e-01, 1.7918e-04, 4.5047e-01],\n",
      "        [1.2880e-03, 7.6009e-03, 9.9654e-01, 3.4265e-01, 9.8575e-01, 9.9569e-01,\n",
      "         2.5543e-04, 9.5764e-03, 2.3414e-06, 2.6536e-01],\n",
      "        [6.1719e-04, 2.8212e-04, 3.3008e-01, 8.0732e-07, 9.0199e-01, 9.9297e-01,\n",
      "         2.1667e-07, 4.9725e-01, 6.0234e-03, 6.3673e-03],\n",
      "        [1.2974e-06, 1.1797e-01, 2.1451e-02, 2.2709e-07, 9.9448e-01, 1.2119e-03,\n",
      "         8.4885e-06, 2.9715e-01, 1.3375e-06, 3.9871e-01],\n",
      "        [1.6590e-07, 8.4296e-06, 8.9853e-01, 2.3462e-07, 1.0000e+00, 9.9993e-01,\n",
      "         1.8932e-01, 9.9997e-01, 4.3034e-05, 3.8139e-02],\n",
      "        [6.4042e-04, 1.1706e-04, 4.4456e-05, 6.7816e-04, 9.9456e-01, 1.0000e+00,\n",
      "         1.3055e-03, 4.8019e-01, 6.4168e-08, 6.9381e-03],\n",
      "        [3.7247e-06, 5.9900e-04, 9.9576e-01, 2.9272e-01, 9.9977e-01, 9.1926e-01,\n",
      "         3.7689e-07, 1.4476e-02, 1.9168e-06, 1.0929e-03],\n",
      "        [1.4898e-07, 2.2310e-04, 2.2704e-01, 3.2240e-09, 9.9998e-01, 9.9902e-01,\n",
      "         9.9552e-01, 9.9999e-01, 1.0043e-05, 4.4565e-04],\n",
      "        [7.4437e-07, 4.2055e-04, 6.8454e-02, 6.4957e-04, 1.0000e+00, 9.9914e-01,\n",
      "         3.6921e-06, 6.4979e-02, 7.6439e-07, 2.2868e-03],\n",
      "        [1.3190e-06, 4.8180e-04, 3.4431e-02, 8.4692e-01, 9.9953e-01, 1.2529e-01,\n",
      "         7.2176e-04, 1.7017e-01, 5.7026e-08, 1.4748e-01],\n",
      "        [3.0626e-04, 2.4731e-06, 3.2282e-03, 1.6912e-05, 9.9986e-01, 9.9104e-01,\n",
      "         2.2724e-02, 3.5635e-04, 1.2248e-06, 4.0566e-01],\n",
      "        [4.5394e-07, 8.8960e-03, 7.4471e-01, 5.8981e-07, 6.8460e-01, 9.9997e-01,\n",
      "         3.2026e-03, 9.9441e-01, 1.6243e-07, 6.4730e-03],\n",
      "        [1.8802e-03, 1.0692e-01, 9.9790e-01, 2.4992e-05, 9.8644e-01, 9.0658e-01,\n",
      "         2.3131e-04, 1.0000e+00, 1.6963e-08, 3.3504e-03],\n",
      "        [1.0922e-11, 5.3699e-06, 9.9438e-01, 8.9659e-07, 9.7138e-01, 9.9504e-01,\n",
      "         3.8322e-01, 8.5960e-01, 5.5366e-06, 9.9319e-02],\n",
      "        [5.4132e-06, 4.0838e-07, 9.9986e-01, 2.3461e-06, 9.9142e-01, 9.9985e-01,\n",
      "         3.3125e-03, 7.2778e-01, 1.5799e-06, 1.2150e-05],\n",
      "        [1.0063e-06, 1.5885e-08, 1.1162e-01, 2.6107e-01, 9.9939e-01, 1.0000e+00,\n",
      "         6.9742e-01, 9.9442e-01, 4.3505e-08, 1.4876e-07],\n",
      "        [1.0122e-07, 6.1434e-03, 9.0703e-01, 1.7129e-10, 9.3491e-01, 1.0000e+00,\n",
      "         2.7834e-02, 9.6714e-01, 5.6755e-06, 3.6063e-01],\n",
      "        [1.7428e-08, 1.3531e-05, 3.9220e-02, 1.0573e-03, 9.9992e-01, 9.9811e-01,\n",
      "         8.7394e-01, 2.8803e-01, 8.1197e-06, 1.0576e-03],\n",
      "        [2.4487e-08, 6.8538e-05, 3.1773e-05, 3.8697e-06, 9.9117e-01, 8.4159e-01,\n",
      "         4.2317e-02, 9.9959e-01, 3.3544e-06, 1.4075e-04],\n",
      "        [1.4654e-09, 1.0391e-05, 1.3410e-03, 8.0943e-04, 9.9111e-01, 9.9994e-01,\n",
      "         9.9576e-01, 2.8740e-01, 8.3230e-06, 1.9586e-01],\n",
      "        [1.0072e-06, 1.4231e-01, 9.9742e-01, 2.2766e-01, 2.8863e-01, 9.9930e-01,\n",
      "         6.1419e-02, 8.8350e-01, 2.3283e-05, 9.9999e-01],\n",
      "        [8.1224e-05, 1.3468e-06, 9.9759e-01, 3.2220e-03, 9.5576e-01, 9.8570e-01,\n",
      "         4.8298e-04, 8.1508e-01, 5.5611e-08, 5.8414e-06],\n",
      "        [1.0183e-05, 6.0828e-05, 7.1047e-01, 2.7890e-09, 3.3380e-01, 9.9834e-01,\n",
      "         2.0106e-03, 8.4512e-01, 5.9845e-03, 1.2479e-03],\n",
      "        [1.7153e-06, 2.2387e-07, 1.7263e-02, 1.7472e-05, 9.9859e-01, 9.9924e-01,\n",
      "         8.5134e-01, 9.9994e-01, 6.9051e-08, 8.0843e-08],\n",
      "        [8.1527e-10, 2.4502e-04, 5.0213e-01, 4.6207e-03, 1.0000e+00, 2.6825e-02,\n",
      "         8.3954e-01, 9.9869e-01, 3.0053e-03, 6.2360e-03],\n",
      "        [2.2793e-10, 9.9550e-01, 2.8350e-01, 5.8983e-05, 8.4519e-01, 5.1975e-01,\n",
      "         1.3706e-04, 1.7772e-01, 5.5176e-06, 3.9206e-02],\n",
      "        [9.0038e-08, 3.1308e-01, 9.7369e-01, 1.5261e-01, 9.9998e-01, 9.8573e-01,\n",
      "         1.1467e-02, 1.9517e-04, 4.1127e-06, 6.9942e-03],\n",
      "        [2.8498e-08, 1.2437e-02, 1.4655e-07, 7.7771e-04, 6.2537e-01, 9.8598e-01,\n",
      "         9.7952e-02, 9.3034e-01, 4.6464e-09, 4.7018e-04],\n",
      "        [8.2089e-05, 1.2384e-01, 4.6218e-01, 3.2397e-08, 9.6909e-01, 8.5805e-01,\n",
      "         6.0555e-04, 9.1599e-01, 7.9564e-04, 8.1840e-01],\n",
      "        [2.0717e-05, 3.4379e-02, 9.5936e-01, 5.7611e-04, 9.9989e-01, 9.9674e-01,\n",
      "         2.4397e-03, 9.7476e-01, 2.7147e-10, 9.1756e-01],\n",
      "        [8.7262e-08, 2.8154e-04, 9.9984e-01, 7.8097e-06, 9.8964e-01, 9.9807e-01,\n",
      "         7.7227e-05, 2.9315e-01, 4.0630e-03, 3.2683e-01],\n",
      "        [2.4805e-08, 9.8798e-04, 1.8853e-01, 1.5958e-07, 1.0000e+00, 9.7140e-01,\n",
      "         1.4446e-05, 9.8698e-01, 4.0566e-05, 1.4349e-03],\n",
      "        [1.3831e-05, 9.9986e-01, 9.9955e-01, 5.6581e-04, 9.4678e-01, 9.8398e-01,\n",
      "         3.2411e-02, 9.8891e-01, 4.8390e-04, 6.3884e-04],\n",
      "        [7.5127e-04, 1.0983e-04, 2.0448e-01, 3.8849e-08, 1.0000e+00, 9.9480e-01,\n",
      "         8.6901e-05, 3.6674e-02, 9.5925e-03, 1.3703e-01],\n",
      "        [2.8072e-12, 1.2290e-06, 9.9965e-01, 3.6949e-04, 9.9998e-01, 9.8965e-01,\n",
      "         7.5574e-02, 9.5808e-01, 7.0027e-05, 6.2259e-04],\n",
      "        [1.3907e-04, 8.0373e-06, 2.0462e-02, 2.1442e-02, 9.9336e-01, 1.0000e+00,\n",
      "         9.9981e-01, 4.8170e-05, 6.8468e-10, 4.3169e-05],\n",
      "        [6.6748e-10, 3.4766e-01, 1.4819e-01, 5.0624e-01, 9.9997e-01, 9.9999e-01,\n",
      "         4.3511e-06, 4.2660e-05, 4.8258e-06, 6.5012e-01],\n",
      "        [3.0984e-05, 1.4389e-04, 1.3594e-02, 6.3114e-01, 1.0000e+00, 8.1824e-01,\n",
      "         7.8444e-01, 9.9847e-01, 1.2505e-05, 1.7286e-03],\n",
      "        [6.2044e-14, 3.6091e-03, 8.2985e-01, 9.1705e-03, 9.9998e-01, 6.9596e-01,\n",
      "         9.0801e-03, 3.7568e-01, 2.3234e-04, 6.0181e-02],\n",
      "        [4.3086e-08, 8.8036e-07, 9.9772e-01, 6.2152e-11, 9.9797e-01, 9.9924e-01,\n",
      "         2.7993e-03, 9.9968e-01, 2.4621e-04, 2.0191e-03],\n",
      "        [4.3757e-06, 3.5741e-02, 9.9967e-01, 8.9100e-01, 9.9998e-01, 9.9999e-01,\n",
      "         8.9652e-05, 4.9666e-03, 1.2206e-08, 1.3736e-04],\n",
      "        [4.0439e-10, 9.8267e-01, 9.9352e-01, 1.0911e-02, 1.7870e-02, 9.9842e-01,\n",
      "         4.3487e-03, 6.9826e-05, 1.2727e-03, 6.3552e-01],\n",
      "        [3.2167e-05, 8.1496e-01, 1.2835e-01, 2.2009e-07, 9.9769e-01, 8.9133e-01,\n",
      "         1.0982e-06, 3.0334e-01, 2.5546e-08, 7.2421e-05],\n",
      "        [2.9174e-03, 1.4777e-03, 9.9837e-01, 8.5302e-03, 9.9998e-01, 9.9991e-01,\n",
      "         2.9956e-02, 1.5578e-01, 7.5569e-06, 1.4213e-04],\n",
      "        [1.4396e-05, 4.5558e-09, 9.9915e-01, 7.0157e-08, 1.2484e-03, 9.9998e-01,\n",
      "         1.7779e-01, 9.9942e-01, 1.7037e-02, 1.5494e-04],\n",
      "        [1.6087e-15, 5.4582e-02, 4.6205e-01, 2.2230e-06, 9.6825e-01, 9.6548e-01,\n",
      "         1.2048e-02, 9.8710e-01, 7.4486e-06, 9.6535e-01],\n",
      "        [1.1487e-04, 4.2666e-07, 9.9866e-01, 8.3310e-04, 9.4478e-01, 3.3251e-01,\n",
      "         3.2721e-04, 9.6402e-01, 8.9247e-07, 1.6948e-07],\n",
      "        [1.5674e-06, 4.0948e-02, 8.0931e-01, 5.1695e-06, 5.2102e-01, 9.9875e-01,\n",
      "         9.8820e-02, 3.3513e-03, 2.9501e-07, 9.9844e-01],\n",
      "        [4.1117e-07, 1.4918e-03, 4.1832e-01, 1.1011e-02, 8.3734e-01, 1.0000e+00,\n",
      "         5.4830e-03, 1.9727e-04, 7.0229e-05, 9.8908e-01],\n",
      "        [4.8231e-06, 7.2655e-04, 1.4609e-01, 5.7455e-06, 9.9997e-01, 9.9151e-01,\n",
      "         5.7420e-04, 9.9802e-01, 9.5541e-05, 9.0337e-03],\n",
      "        [2.3542e-04, 1.9215e-01, 8.7055e-03, 1.9478e-04, 9.9999e-01, 9.9994e-01,\n",
      "         1.5826e-02, 9.9320e-01, 1.6046e-07, 4.8807e-04],\n",
      "        [9.5266e-10, 2.9896e-01, 8.3376e-01, 2.6353e-02, 1.0000e+00, 2.9360e-02,\n",
      "         1.5488e-03, 9.7446e-01, 7.5026e-04, 5.4798e-04],\n",
      "        [1.0264e-08, 3.6346e-04, 2.8849e-01, 1.2215e-05, 9.0406e-01, 9.9681e-01,\n",
      "         6.9831e-01, 8.3389e-01, 3.9880e-09, 2.9311e-01],\n",
      "        [5.4723e-07, 9.9935e-01, 3.6143e-02, 1.3815e-06, 1.0000e+00, 1.7403e-01,\n",
      "         8.1180e-04, 9.9842e-01, 5.8976e-03, 1.7519e-02],\n",
      "        [7.0031e-10, 1.9088e-03, 7.7663e-02, 1.0005e-04, 1.0000e+00, 9.9367e-01,\n",
      "         3.7015e-04, 4.6698e-02, 8.2960e-07, 2.6871e-01],\n",
      "        [3.2674e-07, 3.3598e-09, 9.3837e-01, 3.4743e-06, 2.1271e-01, 1.0000e+00,\n",
      "         6.1991e-01, 5.8264e-01, 2.8272e-06, 1.0521e-03]])\n"
     ]
    }
   ],
   "source": [
    "### Generate some data\n",
    "torch.manual_seed(7)\n",
    "\n",
    "# images will be the features which is 784 \n",
    "inputs = images.view(images.shape[0], -1) #images.shape[0] is the batch size, negative one implies flattening the images\n",
    "n_input = 784\n",
    "n_hidden = 256\n",
    "n_output = 10\n",
    "\n",
    "#Weights for inputs to hidden layer\n",
    "W1 = torch.randn(n_input, n_hidden)\n",
    "#Weights for hidden layer to output layer\n",
    "W2 = torch.randn(n_hidden, n_output)\n",
    "\n",
    "# and bias terms for hidden and output layer\n",
    "B1 = torch.randn((1, n_hidden))\n",
    "B2 = torch.randn((1, n_output))\n",
    "\n",
    "def activation(x):\n",
    "    return (1/(1 + torch.exp(-x)))\n",
    "\n",
    "h = activation(torch.mm(inputs, W1) + B1)\n",
    "output = activation(torch.mm(h, W2) + B2)\n",
    "print(output)\n"
   ]
  },
  {
   "cell_type": "code",
   "execution_count": 8,
   "metadata": {},
   "outputs": [
    {
     "name": "stdout",
     "output_type": "stream",
     "text": [
      "torch.Size([64, 10])\n",
      "tensor([0.1628, 0.1783, 0.1452, 0.1572, 0.1663, 0.1364, 0.1475, 0.1816, 0.1463,\n",
      "        0.1574, 0.1405, 0.1333, 0.1628, 0.1385, 0.1516, 0.1705, 0.1347, 0.1461,\n",
      "        0.1399, 0.1523, 0.1617, 0.1654, 0.1566, 0.1648, 0.1639, 0.1537, 0.1452,\n",
      "        0.1597, 0.1785, 0.1573, 0.1449, 0.1640, 0.1585, 0.1515, 0.1546, 0.1418,\n",
      "        0.1653, 0.1796, 0.1555, 0.1484, 0.1833, 0.1377, 0.1618, 0.1550, 0.1610,\n",
      "        0.1717, 0.1447, 0.1619, 0.1689, 0.1703, 0.1521, 0.1500, 0.1539, 0.1720,\n",
      "        0.1519, 0.1608, 0.1566, 0.1487, 0.1503, 0.1521, 0.1619, 0.1606, 0.1384,\n",
      "        0.1544])\n"
     ]
    }
   ],
   "source": [
    "def softmax(x):\n",
    "    #implement softmax function\n",
    "    return torch.exp(output)/torch.sum(torch.exp(output), dim = 1).view(-1, 1)\n",
    "    #torch.sum(torch.exp(output), dim=1) take the sum across all the values of single row, ie sum all the columns\n",
    "\n",
    "# Here, out should be the output of the network in the previous excercise with shape (64,10)\n",
    "probabilities = softmax(output)\n",
    "\n",
    "# Does it have the right shape? Should be (64, 10)\n",
    "print(probabilities.shape)\n",
    "# Does it sum to 1?\n",
    "print(probabilities.sum(dim=1))"
   ]
  },
  {
   "cell_type": "code",
   "execution_count": null,
   "metadata": {},
   "outputs": [],
   "source": []
  }
 ],
 "metadata": {
  "kernelspec": {
   "display_name": "Python 3",
   "language": "python",
   "name": "python3"
  },
  "language_info": {
   "codemirror_mode": {
    "name": "ipython",
    "version": 3
   },
   "file_extension": ".py",
   "mimetype": "text/x-python",
   "name": "python",
   "nbconvert_exporter": "python",
   "pygments_lexer": "ipython3",
   "version": "3.7.1"
  }
 },
 "nbformat": 4,
 "nbformat_minor": 2
}
