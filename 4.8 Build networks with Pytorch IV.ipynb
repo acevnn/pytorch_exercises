{
 "cells": [
  {
   "cell_type": "code",
   "execution_count": 3,
   "metadata": {},
   "outputs": [],
   "source": [
    "from torch import nn # need to add this additional line because nn was not found.\n",
    "import torch\n",
    "import torch.nn.functional as F\n",
    "import helper"
   ]
  },
  {
   "cell_type": "code",
   "execution_count": 6,
   "metadata": {},
   "outputs": [],
   "source": [
    "from torchvision import datasets, transforms\n",
    "\n",
    "# Define a transform to normalize the data\n",
    "transform = transforms.Compose([transforms.ToTensor(),\n",
    "                              transforms.Normalize((0.5,), (0.5,)),\n",
    "                              ])\n",
    "# Download and load the training data\n",
    "trainset = datasets.MNIST('~/.pytorch/MNIST_data/', download=True, train=True, transform=transform)\n",
    "trainloader = torch.utils.data.DataLoader(trainset, batch_size=64, shuffle=True)"
   ]
  },
  {
   "cell_type": "code",
   "execution_count": 11,
   "metadata": {},
   "outputs": [
    {
     "data": {
      "text/plain": [
       "Network(\n",
       "  (fc1): Linear(in_features=784, out_features=128, bias=True)\n",
       "  (fc2): Linear(in_features=128, out_features=64, bias=True)\n",
       "  (fc3): Linear(in_features=64, out_features=10, bias=True)\n",
       ")"
      ]
     },
     "execution_count": 11,
     "metadata": {},
     "output_type": "execute_result"
    }
   ],
   "source": [
    "\n",
    "class Network(nn.Module):\n",
    "    def __init__(self):\n",
    "        super().__init__()\n",
    "        # Defining the layers, 128, 64, 10 units each\n",
    "        self.fc1 = nn.Linear(784, 128)\n",
    "        self.fc2 = nn.Linear(128, 64)\n",
    "        # Output layer, 10 units - one for each digit\n",
    "        self.fc3 = nn.Linear(64, 10)\n",
    "        \n",
    "    def forward(self, x):\n",
    "        ''' Forward pass through the network, returns the output logits '''\n",
    "        \n",
    "        x = self.fc1(x)\n",
    "        x = F.relu(x)\n",
    "        x = self.fc2(x)\n",
    "        x = F.relu(x)\n",
    "        x = self.fc3(x)\n",
    "        x = F.softmax(x, dim=1)\n",
    "        \n",
    "        return x\n",
    "\n",
    "model = Network()\n",
    "model\n"
   ]
  },
  {
   "cell_type": "code",
   "execution_count": 12,
   "metadata": {},
   "outputs": [
    {
     "name": "stdout",
     "output_type": "stream",
     "text": [
      "Parameter containing:\n",
      "tensor([[ 0.0131,  0.0134,  0.0356,  ..., -0.0148,  0.0054,  0.0219],\n",
      "        [-0.0007, -0.0072,  0.0010,  ..., -0.0117,  0.0339,  0.0195],\n",
      "        [-0.0153, -0.0253,  0.0067,  ..., -0.0232,  0.0085, -0.0109],\n",
      "        ...,\n",
      "        [-0.0059,  0.0268,  0.0259,  ...,  0.0067,  0.0053, -0.0257],\n",
      "        [ 0.0027, -0.0011,  0.0187,  ..., -0.0121, -0.0357, -0.0088],\n",
      "        [ 0.0040, -0.0280, -0.0020,  ..., -0.0057,  0.0046,  0.0162]],\n",
      "       requires_grad=True)\n",
      "Parameter containing:\n",
      "tensor([-0.0150,  0.0093, -0.0172, -0.0013, -0.0031,  0.0125,  0.0266, -0.0101,\n",
      "        -0.0146, -0.0297,  0.0233, -0.0303, -0.0322, -0.0301,  0.0020,  0.0216,\n",
      "         0.0134, -0.0262,  0.0091,  0.0104, -0.0244, -0.0227,  0.0232, -0.0157,\n",
      "        -0.0018,  0.0334, -0.0132,  0.0272, -0.0236, -0.0228,  0.0247, -0.0255,\n",
      "         0.0052,  0.0044, -0.0156, -0.0067,  0.0333,  0.0352,  0.0051,  0.0322,\n",
      "         0.0165,  0.0328,  0.0280, -0.0110, -0.0212,  0.0172,  0.0082, -0.0144,\n",
      "        -0.0109, -0.0238, -0.0006,  0.0122, -0.0179, -0.0261,  0.0342,  0.0342,\n",
      "         0.0018, -0.0125,  0.0211, -0.0214, -0.0343, -0.0339,  0.0175,  0.0348,\n",
      "         0.0206,  0.0140, -0.0087, -0.0106, -0.0332, -0.0224,  0.0175, -0.0123,\n",
      "        -0.0091, -0.0306, -0.0153,  0.0040,  0.0225, -0.0025, -0.0119,  0.0323,\n",
      "         0.0018, -0.0134, -0.0013, -0.0349, -0.0084, -0.0005, -0.0122,  0.0263,\n",
      "        -0.0089,  0.0190, -0.0099, -0.0160, -0.0066, -0.0070, -0.0003,  0.0195,\n",
      "         0.0279, -0.0345, -0.0309, -0.0309, -0.0061, -0.0250,  0.0304,  0.0022,\n",
      "         0.0265,  0.0078, -0.0016, -0.0194, -0.0322, -0.0068, -0.0269, -0.0016,\n",
      "         0.0317, -0.0333, -0.0297,  0.0069,  0.0054,  0.0333,  0.0309,  0.0018,\n",
      "         0.0193, -0.0168,  0.0299, -0.0157,  0.0297,  0.0277,  0.0127,  0.0151],\n",
      "       requires_grad=True)\n"
     ]
    }
   ],
   "source": [
    "print(model.fc1.weight)\n",
    "print(model.fc1.bias)\n"
   ]
  },
  {
   "cell_type": "code",
   "execution_count": 13,
   "metadata": {},
   "outputs": [
    {
     "data": {
      "text/plain": [
       "tensor([0., 0., 0., 0., 0., 0., 0., 0., 0., 0., 0., 0., 0., 0., 0., 0., 0., 0.,\n",
       "        0., 0., 0., 0., 0., 0., 0., 0., 0., 0., 0., 0., 0., 0., 0., 0., 0., 0.,\n",
       "        0., 0., 0., 0., 0., 0., 0., 0., 0., 0., 0., 0., 0., 0., 0., 0., 0., 0.,\n",
       "        0., 0., 0., 0., 0., 0., 0., 0., 0., 0., 0., 0., 0., 0., 0., 0., 0., 0.,\n",
       "        0., 0., 0., 0., 0., 0., 0., 0., 0., 0., 0., 0., 0., 0., 0., 0., 0., 0.,\n",
       "        0., 0., 0., 0., 0., 0., 0., 0., 0., 0., 0., 0., 0., 0., 0., 0., 0., 0.,\n",
       "        0., 0., 0., 0., 0., 0., 0., 0., 0., 0., 0., 0., 0., 0., 0., 0., 0., 0.,\n",
       "        0., 0.])"
      ]
     },
     "execution_count": 13,
     "metadata": {},
     "output_type": "execute_result"
    }
   ],
   "source": [
    "# Set biases to all zeros\n",
    "model.fc1.bias.data.fill_(0)"
   ]
  },
  {
   "cell_type": "code",
   "execution_count": 14,
   "metadata": {},
   "outputs": [
    {
     "data": {
      "text/plain": [
       "tensor([[-0.0108, -0.0060, -0.0125,  ..., -0.0019,  0.0058,  0.0139],\n",
       "        [-0.0031,  0.0018,  0.0056,  ...,  0.0120,  0.0024, -0.0119],\n",
       "        [-0.0014,  0.0008,  0.0115,  ...,  0.0131, -0.0056, -0.0022],\n",
       "        ...,\n",
       "        [-0.0109,  0.0039, -0.0199,  ..., -0.0144, -0.0004, -0.0000],\n",
       "        [-0.0045,  0.0231,  0.0062,  ..., -0.0103,  0.0105,  0.0052],\n",
       "        [ 0.0072,  0.0032,  0.0153,  ..., -0.0075,  0.0088,  0.0152]])"
      ]
     },
     "execution_count": 14,
     "metadata": {},
     "output_type": "execute_result"
    }
   ],
   "source": [
    "# sample from random normal with standard dev = 0.01\n",
    "model.fc1.weight.data.normal_(std=0.01)"
   ]
  },
  {
   "cell_type": "code",
   "execution_count": 15,
   "metadata": {},
   "outputs": [
    {
     "data": {
      "image/png": "[encoded data removed]",
      "text/plain": [
       "<Figure size 432x648 with 2 Axes>"
      ]
     },
     "metadata": {
      "needs_background": "light"
     },
     "output_type": "display_data"
    }
   ],
   "source": [
    "# Grab some data \n",
    "dataiter = iter(trainloader)\n",
    "images, labels = dataiter.next()\n",
    "\n",
    "# Resize images into a 1D vector, new shape is (batch size, color channels, image pixels) \n",
    "images.resize_(64, 1, 784)\n",
    "# or images.resize_(images.shape[0], 1, 784) to automatically get batch size\n",
    "\n",
    "# Forward pass through the network\n",
    "img_idx = 0\n",
    "ps = model.forward(images[img_idx,:])\n",
    "\n",
    "img = images[img_idx]\n",
    "helper.view_classify(img.view(1, 28, 28), ps)"
   ]
  },
  {
   "cell_type": "code",
   "execution_count": 7,
   "metadata": {},
   "outputs": [
    {
     "name": "stdout",
     "output_type": "stream",
     "text": [
      "Sequential(\n",
      "  (0): Linear(in_features=784, out_features=128, bias=True)\n",
      "  (1): ReLU()\n",
      "  (2): Linear(in_features=128, out_features=64, bias=True)\n",
      "  (3): ReLU()\n",
      "  (4): Linear(in_features=64, out_features=10, bias=True)\n",
      "  (5): Softmax()\n",
      ")\n"
     ]
    },
    {
     "data": {
      "image/png": "[encoded data removed]",
      "text/plain": [
       "<Figure size 432x648 with 2 Axes>"
      ]
     },
     "metadata": {
      "needs_background": "light"
     },
     "output_type": "display_data"
    }
   ],
   "source": [
    "# Hyperparameters for our network\n",
    "input_size = 784\n",
    "hidden_sizes = [128, 64]\n",
    "output_sizes = 10\n",
    "\n",
    "# Build a feed-forward network\n",
    "model =  nn.Sequential(nn.Linear(input_size, hidden_sizes[0]),\n",
    "                       nn.ReLU(),\n",
    "                       nn.Linear(hidden_sizes[0], hidden_sizes[1]),\n",
    "                       nn.ReLU(),\n",
    "                       nn.Linear(hidden_sizes[1], output_sizes),\n",
    "                       nn.Softmax(dim=1))\n",
    "print(model)\n",
    "\n",
    "# Forward pass through the network and display output\n",
    "images, labels = next(iter(trainloader))\n",
    "images.resize_(images.shape[0], 1 , 784)\n",
    "ps = model.forward(images[0,:])\n",
    "helper.view_classify(images[0].view(1,28,28), ps)\n"
   ]
  },
  {
   "cell_type": "code",
   "execution_count": 8,
   "metadata": {},
   "outputs": [
    {
     "name": "stdout",
     "output_type": "stream",
     "text": [
      "Linear(in_features=784, out_features=128, bias=True)\n"
     ]
    },
    {
     "data": {
      "text/plain": [
       "Parameter containing:\n",
       "tensor([[-0.0016,  0.0278,  0.0313,  ..., -0.0198,  0.0288, -0.0228],\n",
       "        [ 0.0018,  0.0317, -0.0297,  ..., -0.0004, -0.0200,  0.0121],\n",
       "        [ 0.0210, -0.0221,  0.0025,  ..., -0.0220,  0.0265, -0.0282],\n",
       "        ...,\n",
       "        [-0.0333,  0.0017,  0.0216,  ...,  0.0228,  0.0314,  0.0260],\n",
       "        [-0.0255,  0.0096,  0.0111,  ..., -0.0112,  0.0051, -0.0016],\n",
       "        [-0.0172,  0.0104, -0.0029,  ..., -0.0027,  0.0066,  0.0355]],\n",
       "       requires_grad=True)"
      ]
     },
     "execution_count": 8,
     "metadata": {},
     "output_type": "execute_result"
    }
   ],
   "source": [
    "print(model[0])\n",
    "model[0].weight"
   ]
  },
  {
   "cell_type": "code",
   "execution_count": 10,
   "metadata": {},
   "outputs": [
    {
     "data": {
      "text/plain": [
       "Sequential(\n",
       "  (fc1): Linear(in_features=784, out_features=128, bias=True)\n",
       "  (relu1): ReLU()\n",
       "  (fc2): Linear(in_features=128, out_features=64, bias=True)\n",
       "  (relu2): ReLU()\n",
       "  (output): Linear(in_features=64, out_features=10, bias=True)\n",
       "  (softmax): Softmax()\n",
       ")"
      ]
     },
     "execution_count": 10,
     "metadata": {},
     "output_type": "execute_result"
    }
   ],
   "source": [
    "from collections import OrderedDict\n",
    "model = nn.Sequential(OrderedDict([\n",
    "                    ('fc1', nn.Linear(input_size, hidden_sizes[0])),\n",
    "                    ('relu1', nn.ReLU()),\n",
    "                      ('fc2', nn.Linear(hidden_sizes[0], hidden_sizes[1])),\n",
    "                      ('relu2', nn.ReLU()),\n",
    "                      ('output', nn.Linear(hidden_sizes[1], output_sizes)),\n",
    "                      ('softmax', nn.Softmax(dim=1))]))\n",
    "model"
   ]
  },
  {
   "cell_type": "code",
   "execution_count": 11,
   "metadata": {},
   "outputs": [
    {
     "name": "stdout",
     "output_type": "stream",
     "text": [
      "Linear(in_features=784, out_features=128, bias=True)\n",
      "Linear(in_features=784, out_features=128, bias=True)\n"
     ]
    }
   ],
   "source": [
    "print(model[0])\n",
    "print(model.fc1)"
   ]
  },
  {
   "cell_type": "code",
   "execution_count": null,
   "metadata": {},
   "outputs": [],
   "source": []
  }
 ],
 "metadata": {
  "kernelspec": {
   "display_name": "Python 3",
   "language": "python",
   "name": "python3"
  },
  "language_info": {
   "codemirror_mode": {
    "name": "ipython",
    "version": 3
   },
   "file_extension": ".py",
   "mimetype": "text/x-python",
   "name": "python",
   "nbconvert_exporter": "python",
   "pygments_lexer": "ipython3",
   "version": "3.7.1"
  }
 },
 "nbformat": 4,
 "nbformat_minor": 2
}
