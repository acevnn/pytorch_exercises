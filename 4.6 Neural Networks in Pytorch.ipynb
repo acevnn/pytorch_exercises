{
 "cells": [
  {
   "cell_type": "code",
   "execution_count": 4,
   "metadata": {},
   "outputs": [],
   "source": [
    "#import necessary packages\n",
    "\n",
    "%matplotlib inline\n",
    "%config InlineBackend.figure_format ='retina'\n",
    "\n",
    "import numpy as np\n",
    "import torch\n",
    "\n",
    "import helper\n",
    "\n",
    "import matplotlib.pyplot as plt"
   ]
  },
  {
   "cell_type": "code",
   "execution_count": 5,
   "metadata": {},
   "outputs": [
    {
     "name": "stdout",
     "output_type": "stream",
     "text": [
      "Downloading http://yann.lecun.com/exdb/mnist/train-images-idx3-ubyte.gz\n",
      "Downloading http://yann.lecun.com/exdb/mnist/train-labels-idx1-ubyte.gz\n",
      "Downloading http://yann.lecun.com/exdb/mnist/t10k-images-idx3-ubyte.gz\n",
      "Downloading http://yann.lecun.com/exdb/mnist/t10k-labels-idx1-ubyte.gz\n",
      "Processing...\n",
      "Done!\n"
     ]
    }
   ],
   "source": [
    "### run this cell\n",
    "\n",
    "from torchvision import datasets, transforms\n",
    "\n",
    "# Define a transform to normalize the data\n",
    "transform = transforms.Compose([transforms.ToTensor(), \n",
    "                               transforms.Normalize((0.5,), (0.5,)),\n",
    "                               ])\n",
    "\n",
    "# Download and load the training data\n",
    "trainset = datasets.MNIST('~/.pytorch/MNIST_data', download = True, train = True, transform = transform)\n",
    "trainloader = torch.utils.data.DataLoader(trainset, batch_size = 64, shuffle = True)"
   ]
  },
  {
   "cell_type": "code",
   "execution_count": 6,
   "metadata": {},
   "outputs": [
    {
     "name": "stdout",
     "output_type": "stream",
     "text": [
      "<class 'torch.Tensor'>\n",
      "torch.Size([64, 1, 28, 28])\n",
      "torch.Size([64])\n"
     ]
    }
   ],
   "source": [
    "dataiter = iter(trainloader)\n",
    "images, labels = dataiter.next()\n",
    "print(type(images))\n",
    "print(images.shape)\n",
    "print(labels.shape)"
   ]
  },
  {
   "cell_type": "code",
   "execution_count": 7,
   "metadata": {},
   "outputs": [
    {
     "data": {
      "image/png": "[encoded data removed]",
      "text/plain": [
       "<Figure size 432x288 with 1 Axes>"
      ]
     },
     "metadata": {
      "image/png": {
       "height": 250,
       "width": 253
      },
      "needs_background": "light"
     },
     "output_type": "display_data"
    }
   ],
   "source": [
    "plt.imshow(images[1].numpy().squeeze(), cmap='Greys_r');"
   ]
  },
  {
   "cell_type": "code",
   "execution_count": 10,
   "metadata": {},
   "outputs": [
    {
     "name": "stdout",
     "output_type": "stream",
     "text": [
      "tensor([[2.5122e-06, 3.9717e-05, 8.7184e-02, 4.3381e-07, 9.5993e-01, 1.0000e+00,\n",
      "         6.7998e-01, 9.9999e-01, 5.3585e-10, 2.1340e-05],\n",
      "        [1.5163e-03, 3.3356e-04, 8.1722e-03, 9.8127e-06, 9.9995e-01, 9.9995e-01,\n",
      "         4.7978e-04, 9.8756e-03, 1.9790e-06, 6.3150e-01],\n",
      "        [4.1929e-07, 8.0941e-04, 3.3900e-03, 3.6016e-03, 1.0000e+00, 9.9858e-01,\n",
      "         3.3275e-07, 9.8904e-01, 9.2946e-06, 4.5836e-02],\n",
      "        [3.1499e-09, 1.1983e-03, 9.4508e-01, 1.6037e-06, 9.9726e-01, 1.0000e+00,\n",
      "         9.5072e-02, 9.6272e-01, 3.9053e-08, 4.6115e-02],\n",
      "        [1.4914e-08, 1.7858e-02, 2.0397e-01, 6.5324e-08, 1.0000e+00, 9.9994e-01,\n",
      "         9.1171e-01, 1.0000e+00, 3.4124e-03, 1.3171e-01],\n",
      "        [2.6166e-07, 3.5925e-06, 8.6723e-03, 1.1651e-03, 1.0000e+00, 9.9992e-01,\n",
      "         8.4655e-01, 3.0294e-01, 2.0032e-06, 3.9381e-01],\n",
      "        [2.7152e-09, 8.7148e-01, 9.9228e-01, 4.2941e-04, 1.0000e+00, 1.6335e-01,\n",
      "         6.5393e-03, 4.6578e-02, 3.9451e-05, 2.0262e-02],\n",
      "        [1.1501e-04, 6.4150e-03, 1.7460e-02, 1.6265e-03, 9.9597e-01, 9.9999e-01,\n",
      "         8.6972e-06, 2.0148e-03, 2.9159e-04, 2.9699e-01],\n",
      "        [1.4179e-05, 3.5653e-06, 9.9480e-01, 5.7090e-04, 9.8885e-01, 9.9916e-01,\n",
      "         1.8346e-04, 5.5656e-02, 3.4007e-04, 5.7243e-04],\n",
      "        [6.2902e-06, 2.9003e-05, 9.9546e-01, 1.1314e-01, 9.9963e-01, 9.9968e-01,\n",
      "         3.4145e-07, 3.3128e-03, 1.1238e-06, 5.2200e-02],\n",
      "        [1.2151e-08, 9.0528e-05, 9.9847e-01, 3.0132e-07, 2.5467e-01, 9.9998e-01,\n",
      "         5.9019e-03, 8.1125e-02, 1.5975e-09, 9.0155e-01],\n",
      "        [9.9756e-08, 2.6483e-02, 5.5921e-03, 9.7178e-05, 5.7753e-01, 9.9980e-01,\n",
      "         2.3908e-06, 8.4787e-01, 4.0940e-07, 6.1955e-01],\n",
      "        [1.2319e-06, 1.1720e-02, 6.7121e-03, 2.1592e-09, 9.9995e-01, 9.9999e-01,\n",
      "         1.1761e-06, 9.9955e-01, 6.5199e-06, 9.5122e-02],\n",
      "        [7.2690e-06, 4.4906e-01, 2.6114e-03, 2.6405e-04, 9.4286e-01, 9.8347e-01,\n",
      "         2.2404e-07, 8.9883e-01, 3.3752e-09, 9.9935e-01],\n",
      "        [9.4101e-08, 1.1679e-03, 9.8648e-01, 4.9772e-10, 9.9924e-01, 9.0027e-01,\n",
      "         6.3777e-07, 2.2218e-01, 3.4762e-04, 4.9613e-02],\n",
      "        [1.1737e-12, 9.2129e-01, 5.2732e-01, 8.9235e-01, 9.8503e-01, 9.9999e-01,\n",
      "         1.3765e-06, 9.9747e-01, 3.8610e-06, 9.9748e-01],\n",
      "        [3.7966e-05, 5.1354e-04, 1.4012e-01, 5.0222e-09, 9.5722e-01, 9.9839e-01,\n",
      "         6.7598e-02, 9.9050e-01, 3.2016e-08, 2.1003e-01],\n",
      "        [1.6567e-07, 1.1058e-03, 5.3677e-01, 2.0885e-07, 9.8826e-01, 1.0000e+00,\n",
      "         5.8727e-01, 9.9948e-01, 3.2095e-09, 2.3375e-03],\n",
      "        [9.0464e-05, 2.0563e-05, 9.5908e-01, 2.9383e-05, 9.9966e-01, 8.3024e-01,\n",
      "         4.5842e-03, 3.1519e-02, 6.5619e-03, 4.0382e-03],\n",
      "        [3.1777e-06, 1.5151e-07, 5.9180e-01, 5.4105e-06, 9.8440e-01, 1.0000e+00,\n",
      "         8.3117e-02, 9.9768e-01, 1.5571e-07, 1.6547e-01],\n",
      "        [5.8674e-07, 1.7490e-05, 2.6008e-01, 2.3781e-08, 9.9978e-01, 9.9921e-01,\n",
      "         3.3793e-05, 9.5186e-01, 1.0380e-05, 9.8681e-01],\n",
      "        [1.2550e-07, 3.0215e-06, 1.0577e-01, 8.5441e-03, 9.9936e-01, 1.0000e+00,\n",
      "         1.3540e-06, 5.6727e-01, 2.4228e-07, 9.1385e-01],\n",
      "        [5.7472e-07, 2.9292e-06, 9.9914e-01, 6.8931e-02, 9.9848e-01, 1.0000e+00,\n",
      "         9.9881e-01, 1.1843e-01, 4.5549e-05, 4.0258e-02],\n",
      "        [2.6094e-09, 2.9065e-04, 9.8473e-01, 5.2013e-05, 1.0000e+00, 9.9885e-01,\n",
      "         1.3665e-01, 9.9993e-01, 1.1840e-05, 8.5596e-03],\n",
      "        [7.0030e-08, 1.5932e-02, 1.4687e-01, 2.0620e-06, 9.9984e-01, 9.9629e-01,\n",
      "         1.3987e-03, 9.9410e-01, 6.4290e-07, 2.1143e-02],\n",
      "        [1.1465e-09, 2.1963e-03, 2.7136e-03, 3.4564e-04, 9.9478e-01, 9.9903e-01,\n",
      "         9.6606e-01, 7.4300e-02, 3.2813e-09, 2.9352e-01],\n",
      "        [3.6694e-06, 8.8857e-04, 5.7715e-01, 8.1849e-07, 9.2473e-01, 1.0000e+00,\n",
      "         1.3832e-04, 9.7734e-01, 2.4498e-05, 1.9062e-03],\n",
      "        [5.3168e-07, 1.0374e-01, 8.5646e-01, 2.8104e-04, 9.9952e-01, 2.1199e-01,\n",
      "         4.5070e-01, 1.7096e-01, 6.7431e-07, 9.9708e-01],\n",
      "        [1.1650e-08, 7.4189e-03, 9.6729e-04, 1.3286e-06, 9.9994e-01, 9.9989e-01,\n",
      "         3.9256e-04, 9.9927e-01, 3.3922e-03, 3.7845e-03],\n",
      "        [8.9119e-08, 1.9514e-01, 4.8540e-02, 1.5300e-01, 9.9238e-01, 9.8086e-01,\n",
      "         2.3272e-06, 9.9998e-01, 4.4342e-07, 3.1067e-03],\n",
      "        [3.5616e-08, 9.7987e-05, 1.1631e-01, 1.0149e-02, 1.0000e+00, 9.9997e-01,\n",
      "         3.5260e-04, 9.9994e-01, 1.9669e-03, 7.8468e-03],\n",
      "        [1.9492e-05, 1.0664e-03, 9.9513e-01, 8.4565e-08, 9.9983e-01, 1.0000e+00,\n",
      "         3.4992e-01, 9.8972e-01, 2.4466e-08, 1.8717e-01],\n",
      "        [7.6612e-07, 1.3405e-05, 2.5260e-03, 4.8303e-04, 9.9670e-01, 1.0000e+00,\n",
      "         2.7240e-03, 9.9885e-01, 2.5331e-10, 6.7112e-03],\n",
      "        [5.4498e-07, 8.7485e-03, 9.9591e-01, 1.1576e-04, 9.7927e-01, 3.1753e-01,\n",
      "         4.7539e-02, 8.6134e-06, 7.2189e-07, 9.9906e-01],\n",
      "        [8.0694e-07, 5.2203e-01, 6.8272e-03, 5.8583e-06, 7.3706e-01, 8.4915e-01,\n",
      "         1.8073e-04, 7.4532e-01, 4.3785e-05, 4.3988e-01],\n",
      "        [2.3369e-05, 6.2136e-04, 9.9726e-01, 1.3509e-06, 1.0000e+00, 9.9971e-01,\n",
      "         2.1177e-03, 9.9937e-01, 3.8616e-05, 6.9447e-04],\n",
      "        [4.7610e-05, 1.1149e-03, 9.8963e-01, 3.2364e-01, 1.0000e+00, 1.0000e+00,\n",
      "         8.2352e-04, 9.2250e-02, 7.6084e-08, 5.8573e-02],\n",
      "        [7.7460e-06, 1.0302e-04, 3.3319e-01, 7.3625e-07, 5.3129e-01, 9.9999e-01,\n",
      "         2.0232e-04, 9.6325e-01, 2.4349e-06, 3.9181e-02],\n",
      "        [2.3482e-07, 1.4874e-02, 4.0693e-01, 1.4980e-06, 9.9999e-01, 9.9998e-01,\n",
      "         8.1399e-03, 9.7613e-01, 3.0509e-08, 6.9102e-03],\n",
      "        [3.8762e-05, 2.2086e-01, 3.9823e-02, 1.5265e-07, 2.4872e-01, 9.6518e-01,\n",
      "         4.3403e-05, 5.7970e-01, 3.0278e-06, 9.9902e-01],\n",
      "        [2.3831e-11, 7.0496e-03, 5.3988e-03, 9.9463e-01, 9.9998e-01, 9.9052e-01,\n",
      "         8.2071e-08, 9.9999e-01, 9.0384e-05, 2.9391e-03],\n",
      "        [4.8907e-07, 9.0358e-01, 8.4474e-01, 2.6446e-03, 9.4034e-01, 9.9989e-01,\n",
      "         3.4143e-09, 4.0612e-02, 3.0471e-05, 9.9386e-01],\n",
      "        [1.2849e-03, 3.1388e-01, 6.8138e-01, 2.0770e-04, 9.6180e-01, 9.9705e-01,\n",
      "         2.1719e-01, 5.2987e-03, 8.7963e-03, 5.4111e-02],\n",
      "        [6.0325e-05, 1.4250e-05, 1.9308e-01, 8.3920e-07, 6.0441e-01, 9.9999e-01,\n",
      "         2.8513e-05, 9.6717e-01, 2.3380e-08, 3.1994e-03],\n",
      "        [1.1475e-06, 1.1192e-06, 2.0242e-04, 3.3220e-06, 9.9992e-01, 9.9724e-01,\n",
      "         1.8506e-01, 9.9996e-01, 2.3269e-06, 5.5115e-04],\n",
      "        [1.2312e-03, 1.4892e-04, 3.8319e-04, 8.3437e-02, 9.9999e-01, 9.6571e-01,\n",
      "         2.0436e-02, 9.9807e-01, 1.0103e-05, 5.6843e-01],\n",
      "        [9.1784e-09, 7.6892e-03, 2.7933e-02, 1.1114e-07, 9.9994e-01, 9.8723e-01,\n",
      "         5.2701e-04, 9.9996e-01, 2.0321e-03, 9.5669e-04],\n",
      "        [9.1594e-14, 3.5352e-05, 9.5846e-01, 5.7009e-03, 9.9800e-01, 4.4825e-02,\n",
      "         4.5324e-07, 8.4076e-01, 5.0238e-05, 3.5487e-03],\n",
      "        [1.0303e-05, 1.5184e-07, 9.7410e-01, 7.4050e-03, 7.9251e-01, 9.9949e-01,\n",
      "         1.1714e-01, 9.9769e-01, 8.6256e-10, 3.5578e-02],\n",
      "        [1.4669e-05, 8.1318e-08, 9.7345e-01, 8.9060e-04, 9.9829e-01, 9.9481e-01,\n",
      "         2.1788e-03, 9.6160e-01, 2.5622e-07, 6.3781e-04],\n",
      "        [3.7414e-06, 5.4666e-06, 9.9082e-01, 9.3265e-05, 9.9988e-01, 9.9658e-01,\n",
      "         6.3330e-05, 2.8240e-04, 1.2295e-02, 2.0925e-04],\n",
      "        [6.2631e-07, 2.2585e-02, 6.9178e-01, 4.6636e-04, 9.5337e-01, 9.9911e-01,\n",
      "         2.0944e-01, 8.7895e-01, 2.3848e-03, 2.1957e-02],\n",
      "        [6.8644e-13, 9.6235e-06, 3.1873e-04, 1.9869e-04, 9.9980e-01, 9.9112e-01,\n",
      "         3.5248e-02, 9.9960e-01, 5.6852e-08, 1.6806e-01],\n",
      "        [8.4342e-07, 3.4778e-01, 7.5186e-04, 5.5979e-08, 8.5464e-01, 9.9947e-01,\n",
      "         2.4644e-04, 9.9915e-01, 5.9277e-05, 1.7169e-03],\n",
      "        [4.4621e-05, 3.8128e-03, 3.1916e-01, 2.7357e-04, 1.0000e+00, 9.9899e-01,\n",
      "         4.5027e-01, 7.2786e-01, 5.6652e-06, 9.8083e-01],\n",
      "        [1.5675e-08, 3.8958e-01, 9.4184e-01, 7.7568e-07, 9.9994e-01, 9.9568e-01,\n",
      "         2.3219e-02, 9.6476e-05, 1.9774e-09, 1.7273e-02],\n",
      "        [1.2405e-04, 3.9403e-04, 9.7398e-01, 7.3734e-07, 3.7725e-01, 8.9346e-01,\n",
      "         1.4183e-02, 9.9950e-01, 6.3726e-05, 2.9068e-03],\n",
      "        [1.6130e-04, 2.8935e-05, 4.6741e-01, 6.1715e-03, 9.9995e-01, 8.1553e-01,\n",
      "         3.1882e-05, 6.0087e-01, 7.1841e-08, 6.2146e-02],\n",
      "        [6.6988e-09, 4.7662e-01, 9.9935e-01, 2.0882e-01, 9.9758e-01, 6.0715e-01,\n",
      "         5.9270e-04, 9.9988e-01, 3.2079e-02, 9.9625e-01],\n",
      "        [2.4742e-05, 4.2477e-01, 9.9987e-01, 2.1823e-04, 9.9999e-01, 9.9250e-01,\n",
      "         4.0547e-03, 9.9073e-01, 2.3049e-06, 8.0662e-01],\n",
      "        [1.3590e-03, 4.3929e-05, 9.9950e-01, 1.6981e-03, 9.9987e-01, 9.9784e-01,\n",
      "         2.6592e-05, 9.9865e-01, 4.8482e-05, 7.8092e-04],\n",
      "        [1.5553e-05, 7.5682e-01, 3.0744e-02, 5.6316e-05, 9.6965e-01, 9.9969e-01,\n",
      "         1.2576e-02, 9.8365e-01, 8.5064e-05, 2.4337e-02],\n",
      "        [5.7740e-09, 3.3371e-06, 9.9642e-01, 1.5133e-07, 1.0000e+00, 9.9977e-01,\n",
      "         8.9758e-04, 9.9913e-01, 1.6082e-02, 7.6692e-03],\n",
      "        [1.3044e-08, 1.6066e-01, 9.9910e-01, 6.5028e-06, 9.9990e-01, 2.8873e-02,\n",
      "         2.8563e-01, 9.9919e-01, 2.0356e-04, 5.1040e-01]])\n"
     ]
    }
   ],
   "source": [
    "### Generate some data\n",
    "torch.manual_seed(7)\n",
    "\n",
    "# images will be the features which is 784 \n",
    "inputs = images.view(images.shape[0], -1) #images.shape[0] is the batch size, negative one implies flattening the images\n",
    "n_input = 784\n",
    "n_hidden = 256\n",
    "n_output = 10\n",
    "\n",
    "#Weights for inputs to hidden layer\n",
    "W1 = torch.randn(n_input, n_hidden)\n",
    "#Weights for hidden layer to output layer\n",
    "W2 = torch.randn(n_hidden, n_output)\n",
    "\n",
    "# and bias terms for hidden and output layer\n",
    "B1 = torch.randn((1, n_hidden))\n",
    "B2 = torch.randn((1, n_output))\n",
    "\n",
    "def activation(x):\n",
    "    return (1/(1 + torch.exp(-x)))\n",
    "\n",
    "h = activation(torch.mm(inputs, W1) + B1)\n",
    "output = activation(torch.mm(h, W2) + B2)\n",
    "print(output)\n"
   ]
  },
  {
   "cell_type": "code",
   "execution_count": null,
   "metadata": {},
   "outputs": [],
   "source": []
  }
 ],
 "metadata": {
  "kernelspec": {
   "display_name": "Python 3",
   "language": "python",
   "name": "python3"
  },
  "language_info": {
   "codemirror_mode": {
    "name": "ipython",
    "version": 3
   },
   "file_extension": ".py",
   "mimetype": "text/x-python",
   "name": "python",
   "nbconvert_exporter": "python",
   "pygments_lexer": "ipython3",
   "version": "3.7.1"
  }
 },
 "nbformat": 4,
 "nbformat_minor": 2
}
